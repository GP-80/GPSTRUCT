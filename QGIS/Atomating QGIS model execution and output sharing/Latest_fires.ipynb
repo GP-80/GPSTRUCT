{
 "cells": [
  {
   "cell_type": "markdown",
   "id": "927d2088",
   "metadata": {},
   "source": [
    "Import required libraries"
   ]
  },
  {
   "cell_type": "code",
   "execution_count": 1,
   "id": "a301c34d",
   "metadata": {},
   "outputs": [],
   "source": [
    "import subprocess   # To run external commands (e.g., QGIS processing model)\n",
    "import requests     # To make HTTP requests (e.g., upload image to imgbb)\n",
    "import os           # For file system operations (e.g., deleting the image file)"
   ]
  },
  {
   "cell_type": "markdown",
   "id": "071185ed",
   "metadata": {},
   "source": [
    "Image upload function"
   ]
  },
  {
   "cell_type": "code",
   "execution_count": 2,
   "id": "44486998",
   "metadata": {},
   "outputs": [],
   "source": [
    "# 🔐 Your imgbb API key\n",
    "CLIENT_ID = 'f100258a2d21b41e27b26c8b6a474f98'\n",
    "\n",
    "# 📤 Function to upload an image to imgbb.com\n",
    "def upload_to_imgbb(image_path, title=None):\n",
    "    url = 'https://api.imgbb.com/1/upload'  # imgbb upload endpoint\n",
    "\n",
    "    # Open the image file in binary read mode\n",
    "    with open(image_path, 'rb') as img:\n",
    "        data = {\n",
    "            'key': CLIENT_ID,       # API key for authentication\n",
    "            'expiration': 0,        # 0 = image never expires\n",
    "            'name': title or None   # Optional name for the image\n",
    "        }\n",
    "        files = {\n",
    "            'image': img            # Binary image data\n",
    "        }\n",
    "\n",
    "        # Send POST request to imgbb\n",
    "        r = requests.post(url, data=data, files=files)\n",
    "\n",
    "        # Raise an exception if upload fails\n",
    "        r.raise_for_status()\n",
    "\n",
    "        # Extract and return the URL of the uploaded image\n",
    "        result = r.json()['data']\n",
    "        print('✅ Uploaded:', result['url'])\n",
    "        return result['url']"
   ]
  },
  {
   "cell_type": "markdown",
   "id": "8e9c6f9e",
   "metadata": {},
   "source": [
    "QGIS command"
   ]
  },
  {
   "cell_type": "code",
   "execution_count": 3,
   "id": "8a2cca49",
   "metadata": {},
   "outputs": [
    {
     "name": "stdout",
     "output_type": "stream",
     "text": [
      "🚀 Running QGIS model...\n",
      "✅ Model completed, image exported.\n"
     ]
    }
   ],
   "source": [
    "# 🗺️ Step 1: Run QGIS model using qgis_process\n",
    "# This command executes a model named \"Latest_Fires\" and exports the map layout as a PNG\n",
    "command = [\n",
    "    r'C:\\Program Files\\QGIS 3.40.7\\bin\\qgis_process-qgis-ltr.bat',  # Path to QGIS batch runner\n",
    "    'run',                                      # Action: run model\n",
    "    'model:Latest_Fires',                       # Model name (must be installed in QGIS)\n",
    "    \n",
    "    # --- Parameters for the model ---\n",
    "    '--PROJECT_PATH=E:/QGIS PROJECTS/FIRMS/Final/Latest_Fires_Greece.qgz',  # QGIS project path\n",
    "    '--distance_units=meters',                # Distance unit\n",
    "    '--area_units=m2',                        # Area unit\n",
    "    '--ellipsoid=EPSG:7030',                  # Ellipsoid used for geodesy calculations\n",
    "    '--base_layer=E:/QGIS PROJECTS/FIRMS/Final/Daily_Fires.gpkg|layername=greece_map',  # Base map\n",
    "    '--latest_fires=Latest_Fires',            # Output vector layer\n",
    "    '--greece_fires=TEMPORARY_OUTPUT',        # Intermediate output layer\n",
    "    '--eqgis_projectsfirmsdownloadlatest_fireszip=E:/QGIS PROJECTS/FIRMS/Download/latest_fires.zip',  # Zipped output\n",
    "    '--daily_firespng=E:/QGIS PROJECTS/FIRMS/Final/Latest_Fires.png'  # 📸 Path to exported PNG map\n",
    "]\n",
    "\n",
    "print(\"🚀 Running QGIS model...\")\n",
    "# Run the command and halt if it fails\n",
    "subprocess.run(command, check=True)\n",
    "print(\"✅ Model completed, image exported.\")"
   ]
  },
  {
   "cell_type": "markdown",
   "id": "98bdefef",
   "metadata": {},
   "source": [
    "Upload image and delete file"
   ]
  },
  {
   "cell_type": "code",
   "execution_count": 4,
   "id": "6bbcb0fe",
   "metadata": {},
   "outputs": [
    {
     "name": "stdout",
     "output_type": "stream",
     "text": [
      "✅ Uploaded: https://i.ibb.co/XrJdf2nv/Latest-Fires-Map.png\n",
      "🗑️ Image deleted locally.\n"
     ]
    }
   ],
   "source": [
    "# 📤 Step 2: Upload the exported PNG image and clean up\n",
    "image_path = r'E:/QGIS PROJECTS/FIRMS/Final/Latest_Fires.png'\n",
    "\n",
    "try:\n",
    "    # Upload to imgbb and get the public URL\n",
    "    url = upload_to_imgbb(image_path, title='Latest Fires Map')\n",
    "\n",
    "    # ✅ Delete the image file after successful upload\n",
    "    os.remove(image_path)\n",
    "    print(\"🗑️ Image deleted locally.\")\n",
    "\n",
    "except Exception as e:\n",
    "    # ⚠️ Handle upload or file errors\n",
    "    print(\"❌ Something went wrong:\", e)"
   ]
  },
  {
   "cell_type": "markdown",
   "id": "aeaba231",
   "metadata": {},
   "source": [
    "Add script to task scheduler (Powershell)"
   ]
  },
  {
   "cell_type": "code",
   "execution_count": null,
   "id": "15eb001f",
   "metadata": {},
   "outputs": [],
   "source": [
    "$Action = New-ScheduledTaskAction -Execute \"python.exe\" -Argument \"C:\\Path\\To\\myscript.py\"\n",
    "$Trigger = New-ScheduledTaskTrigger -Daily -At 12:00PM\n",
    "Register-ScheduledTask -TaskName \"RunMyPythonScriptDaily\" -Action $Action -Trigger $Trigger -Description \"Runs my Python script daily at noon\" -User \"$env:USERNAME\" -RunLevel Highest -Force"
   ]
  }
 ],
 "metadata": {
  "kernelspec": {
   "display_name": ".venv",
   "language": "python",
   "name": "python3"
  },
  "language_info": {
   "codemirror_mode": {
    "name": "ipython",
    "version": 3
   },
   "file_extension": ".py",
   "mimetype": "text/x-python",
   "name": "python",
   "nbconvert_exporter": "python",
   "pygments_lexer": "ipython3",
   "version": "3.11.9"
  }
 },
 "nbformat": 4,
 "nbformat_minor": 5
}
